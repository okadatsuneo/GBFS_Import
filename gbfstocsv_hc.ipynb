{
  "nbformat": 4,
  "nbformat_minor": 0,
  "metadata": {
    "colab": {
      "provenance": [],
      "authorship_tag": "ABX9TyNkVHSpv5OzTeu4TPGpyBqF",
      "include_colab_link": true
    },
    "kernelspec": {
      "name": "python3",
      "display_name": "Python 3"
    },
    "language_info": {
      "name": "python"
    }
  },
  "cells": [
    {
      "cell_type": "markdown",
      "metadata": {
        "id": "view-in-github",
        "colab_type": "text"
      },
      "source": [
        "<a href=\"https://colab.research.google.com/github/okadatsuneo/GBFS_Import/blob/main/gbfstocsv_hc.ipynb\" target=\"_parent\"><img src=\"https://colab.research.google.com/assets/colab-badge.svg\" alt=\"Open In Colab\"/></a>"
      ]
    },
    {
      "cell_type": "code",
      "execution_count": 1,
      "metadata": {
        "id": "LlHkpmNXOzQ2"
      },
      "outputs": [],
      "source": [
        "#モジュールのインポート\n",
        "import os\n",
        "import pandas as pd\n",
        "import json\n",
        "from pathlib import Path"
      ]
    },
    {
      "cell_type": "code",
      "source": [
        "# Install XlsxWriter library\n",
        "!pip install XlsxWriter"
      ],
      "metadata": {
        "colab": {
          "base_uri": "https://localhost:8080/"
        },
        "id": "nSwhCE361LSp",
        "outputId": "70106d23-ca64-4882-b972-b159c7da7204"
      },
      "execution_count": 2,
      "outputs": [
        {
          "output_type": "stream",
          "name": "stdout",
          "text": [
            "Collecting XlsxWriter\n",
            "  Downloading XlsxWriter-3.2.0-py3-none-any.whl (159 kB)\n",
            "\u001b[?25l     \u001b[90m━━━━━━━━━━━━━━━━━━━━━━━━━━━━━━━━━━━━━━━━\u001b[0m \u001b[32m0.0/159.9 kB\u001b[0m \u001b[31m?\u001b[0m eta \u001b[36m-:--:--\u001b[0m\r\u001b[2K     \u001b[91m━━━━━━━━━━\u001b[0m\u001b[90m╺\u001b[0m\u001b[90m━━━━━━━━━━━━━━━━━━━━━━━━━━━━━\u001b[0m \u001b[32m41.0/159.9 kB\u001b[0m \u001b[31m1.1 MB/s\u001b[0m eta \u001b[36m0:00:01\u001b[0m\r\u001b[2K     \u001b[91m━━━━━━━━━━━━━━━━━━━━━━━━━━━━━━━━━━━━━━\u001b[0m\u001b[90m╺\u001b[0m\u001b[90m━\u001b[0m \u001b[32m153.6/159.9 kB\u001b[0m \u001b[31m2.3 MB/s\u001b[0m eta \u001b[36m0:00:01\u001b[0m\r\u001b[2K     \u001b[90m━━━━━━━━━━━━━━━━━━━━━━━━━━━━━━━━━━━━━━━━\u001b[0m \u001b[32m159.9/159.9 kB\u001b[0m \u001b[31m1.8 MB/s\u001b[0m eta \u001b[36m0:00:00\u001b[0m\n",
            "\u001b[?25hInstalling collected packages: XlsxWriter\n",
            "Successfully installed XlsxWriter-3.2.0\n"
          ]
        }
      ]
    },
    {
      "cell_type": "code",
      "source": [
        "#ドライブのマウント\n",
        "from google.colab import drive\n",
        "drive.mount('/content/drive')"
      ],
      "metadata": {
        "colab": {
          "base_uri": "https://localhost:8080/"
        },
        "id": "Arumdo9sPLFC",
        "outputId": "1cb87ded-e611-448f-e3fe-bc108e26df5a"
      },
      "execution_count": 3,
      "outputs": [
        {
          "output_type": "stream",
          "name": "stdout",
          "text": [
            "Mounted at /content/drive\n"
          ]
        }
      ]
    },
    {
      "cell_type": "code",
      "source": [
        "# Googleドライブにあるstation_information.jsonを開く\n",
        "path = Path('/content/drive/MyDrive/python/')\n",
        "file_name_station_info = 'h_station_information.json'\n",
        "file_path = path /  file_name_station_info\n",
        "with open(file_path) as f:\n",
        "    json_dict = json.load(f)\n",
        "\n",
        "#'stations'の値を新たなリストlist_stationとする。\n",
        "list_station = json_dict['data']['stations']\n",
        "\n",
        "#list_stationの内容をDataFrameにする。\n",
        "df = pd.DataFrame(list_station)\n",
        "\n",
        "# list_stationの中の'vehicle_capacity'の値をリストにする\n",
        "l_capacity = [d.get('vehicle_capacity') for d in list_station]\n",
        "\n",
        "# df_capを作成する\n",
        "df_cap = pd.DataFrame(l_capacity, columns=['capacity'])\n",
        "\n",
        "# dfにdf_capを列として追加する\n",
        "df['capacity'] = df_cap\n",
        "\n",
        "#station_idのcolumn名を変更する\n",
        "df.rename(columns={'station_id':'gbfs:station_id'}, inplace=True)\n",
        "\n",
        "\n",
        "#インポートしやすいように'address'から都道府県名を取り出し、'addr:province'として列を作成する。\n",
        "for index, row in df.iterrows():\n",
        "  #検索行の'address'の値を変数に入れる:address_check\n",
        "  address_check = df.at[index,'address']\n",
        "  #3番目の文字が\"都\"の場合\n",
        "  if address_check[2:3] == \"都\":\n",
        "    #3番めまでの文字を'addr:province'に格納する。\n",
        "    df.at[index,'addr:province'] = address_check[:3]\n",
        "  #3番目の文字が\"道\"の場合\n",
        "  elif address_check[2:3] == \"道\":\n",
        "    #3番めまでの文字を'addr:province'に格納する。\n",
        "    df.at[index,'addr:province'] = address_check[:3]\n",
        "  #3番目の文字が\"府\"の場合\n",
        "  elif address_check[2:3] == \"府\":\n",
        "    #3番めまでの文字を'addr:province'に格納する。\n",
        "    df.at[index,'addr:province'] = address_check[:3]\n",
        "  #3番目の文字が\"県\"の場合\n",
        "  elif address_check[2:3] == \"県\":\n",
        "    #3番めまでの文字を'addr:province'に格納する。\n",
        "    df.at[index,'addr:province'] = address_check[:3]\n",
        "  #4番目の文字が\"県\"の場合\n",
        "  elif address_check[3:4] == \"県\":\n",
        "    #4番めまでの文字を'addr:province'に格納する。\n",
        "    df.at[index,'addr:province'] = address_check[:4]\n",
        "\n",
        "#出力に必要な列だけ選択する:df3\n",
        "df3 = df[['lat','lon', 'name', 'gbfs:station_id', 'capacity', 'addr:province']].copy()\n",
        "\n",
        "#df3にOSM用の固定値を追加\n",
        "df3['amenity'] = 'bicycle_rental'\n",
        "df3['brand'] = 'HELLO CYCLING'\n",
        "df3['brand:ja'] = 'ハローサイクリング'\n",
        "df3['brand:wikidata'] = 'Q91231927'\n",
        "df3['network'] = 'HELLO CYCLING'\n",
        "df3['network:ja'] = 'ハローサイクリング'\n",
        "df3['network:wikidata'] = 'Q91231927'\n",
        "df3['contact:website'] = 'https://www.hellocycling.jp'\n",
        "df3['authentication:app'] = 'yes'\n",
        "df3['fee'] = 'yes'\n",
        "df3['gbfs:system_id'] = 'hellocycling'\n",
        "\n",
        "#ファイル出力\n",
        "df3.to_csv(path / 'h_stations.csv')\n",
        "#確認用のexcelファイル\n",
        "df3.to_excel(path / 'h_stations.xlsx', engine='xlsxwriter')\n",
        "#データ数出力\n",
        "#print(len(df))\n",
        "print(\"処理が完了しました。\")"
      ],
      "metadata": {
        "colab": {
          "base_uri": "https://localhost:8080/"
        },
        "id": "S815KnLGPTMe",
        "outputId": "2ebeb2a2-0f74-4c31-9ff5-2e043f2dd6d3"
      },
      "execution_count": 4,
      "outputs": [
        {
          "output_type": "stream",
          "name": "stdout",
          "text": [
            "処理が完了しました。\n"
          ]
        }
      ]
    },
    {
      "cell_type": "markdown",
      "source": [
        "備考\n",
        "HelloCyclingのデータでstation_informationのすべてのデータを出力したら、\n",
        "「IllegalCharacterError」のエラーが出た。\n",
        "その回避のために「df.to_excel(\"test.xlsx\", engine='xlsxwriter')」のようにengineでxlsxwriterを指定するとでなくなる。\n",
        "なお、xlsxwriterはデフォルトではGoogle Colaboratoryに入ってないので、pipでインストールが必要。\n",
        "pip install xlsxwriter\n"
      ],
      "metadata": {
        "id": "Q5liA2w9SSzQ"
      }
    }
  ]
}