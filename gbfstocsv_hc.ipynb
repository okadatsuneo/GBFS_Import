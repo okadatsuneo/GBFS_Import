{
  "nbformat": 4,
  "nbformat_minor": 0,
  "metadata": {
    "colab": {
      "provenance": [],
      "authorship_tag": "ABX9TyOoqzs9LywRhOBhq514+Pqq",
      "include_colab_link": true
    },
    "kernelspec": {
      "name": "python3",
      "display_name": "Python 3"
    },
    "language_info": {
      "name": "python"
    }
  },
  "cells": [
    {
      "cell_type": "markdown",
      "metadata": {
        "id": "view-in-github",
        "colab_type": "text"
      },
      "source": [
        "<a href=\"https://colab.research.google.com/github/okadatsuneo/GBFS_Import/blob/main/gbfstocsv_hc.ipynb\" target=\"_parent\"><img src=\"https://colab.research.google.com/assets/colab-badge.svg\" alt=\"Open In Colab\"/></a>"
      ]
    },
    {
      "cell_type": "code",
      "execution_count": 1,
      "metadata": {
        "id": "LlHkpmNXOzQ2"
      },
      "outputs": [],
      "source": [
        "#モジュールのインポート\n",
        "import pandas as pd\n",
        "import json"
      ]
    },
    {
      "cell_type": "code",
      "source": [
        "# Install XlsxWriter library\n",
        "!pip install XlsxWriter"
      ],
      "metadata": {
        "colab": {
          "base_uri": "https://localhost:8080/"
        },
        "id": "nSwhCE361LSp",
        "outputId": "55695d85-4adb-471b-9b47-fc4b04fc968f"
      },
      "execution_count": 4,
      "outputs": [
        {
          "output_type": "stream",
          "name": "stdout",
          "text": [
            "Looking in indexes: https://pypi.org/simple, https://us-python.pkg.dev/colab-wheels/public/simple/\n",
            "Collecting XlsxWriter\n",
            "  Downloading XlsxWriter-3.1.1-py3-none-any.whl (152 kB)\n",
            "\u001b[2K     \u001b[90m━━━━━━━━━━━━━━━━━━━━━━━━━━━━━━━━━━━━━━━\u001b[0m \u001b[32m152.9/152.9 kB\u001b[0m \u001b[31m8.4 MB/s\u001b[0m eta \u001b[36m0:00:00\u001b[0m\n",
            "\u001b[?25hInstalling collected packages: XlsxWriter\n",
            "Successfully installed XlsxWriter-3.1.1\n"
          ]
        }
      ]
    },
    {
      "cell_type": "code",
      "source": [
        "#ドライブのマウント\n",
        "from google.colab import drive\n",
        "drive.mount('/content/drive')"
      ],
      "metadata": {
        "colab": {
          "base_uri": "https://localhost:8080/"
        },
        "id": "Arumdo9sPLFC",
        "outputId": "5b076c86-5a4c-4434-857a-aed20c32fdd5"
      },
      "execution_count": 2,
      "outputs": [
        {
          "output_type": "stream",
          "name": "stdout",
          "text": [
            "Mounted at /content/drive\n"
          ]
        }
      ]
    },
    {
      "cell_type": "code",
      "source": [
        "# Googleドライブにあるstation_information.jsonを開く\n",
        "path = '/content/drive/MyDrive/python/'\n",
        "file_name_station_info = 'h_station_information.json'\n",
        "file_path = path + file_name_station_info\n",
        "with open(file_path) as f:\n",
        "    json_dict = json.load(f)\n",
        "\n",
        "#'stations'の値を新たなリストlist_stationとする。\n",
        "list_station = json_dict['data']['stations']\n",
        "\n",
        "#list_stationの内容をDataFrameにする。\n",
        "df = pd.DataFrame(list_station)\n",
        "\n",
        "#ここからはHelloCyclingのファイルに必要な処理\n",
        "#list_stationの中の'vehicle_type_capacity'の値をリストにする。\n",
        "l_capacity = [ d['vehicle_type_capacity'] for d in list_station]\n",
        "#さらにその中の'num_bikes_limit'の値をリストにする。\n",
        "l_limitcap = [ d['num_bikes_limit'] for d in l_capacity]\n",
        "\n",
        "#l_limitcapのリストをdfに変換する\n",
        "df_cap =pd.DataFrame(l_limitcap, columns=['capacity'])\n",
        "\n",
        "#dfにdf_capを列として追加する。:df2\n",
        "df2 = df.join(df_cap)\n",
        "\n",
        "#'system_id'の列を作り、\"<system_id>:<station_id>\"のように結合する\n",
        "df2['system_id'] = 'hellocycling:'\n",
        "df2['ref:gbfs'] = df2['system_id'] + df2['station_id'] \n",
        "\n",
        "#出力に必要な列だけ選択する:df3\n",
        "df3 = df2.loc[:,['lat','lon', 'name', 'ref:gbfs', 'capacity']]\n",
        "\n",
        "#df3にOSM用の固定値を追加\n",
        "df3.loc[:,'amenity'] = 'bicycle_rental'\n",
        "df3.loc[:,'brand'] = 'HELLO CYCLING'\n",
        "df3.loc[:,'brand:ja'] = 'ハローサイクリング'\n",
        "df3.loc[:,'brand:wikidata'] = 'Q91231927'\n",
        "df3.loc[:,'network'] = 'HELLO CYCLING'\n",
        "df3.loc[:,'network:ja'] = 'ハローサイクリング'\n",
        "df3.loc[:,'network:wikidata'] = 'Q91231927'\n",
        "df3.loc[:,'contact:website'] = 'https://www.hellocycling.jp'\n",
        "df3.loc[:,'authentication:app'] = 'yes'\n",
        "df3.loc[:,'fee'] = 'yes'\n",
        "\n",
        "#ファイル出力\n",
        "df3.to_csv('/content/drive/MyDrive/python/h_stations.csv')\n",
        "#確認用のexcelファイル\n",
        "df3.to_excel('/content/drive/MyDrive/python/h_stations.xlsx', engine='xlsxwriter')\n",
        "#データ数出力\n",
        "print(len(df2))\n"
      ],
      "metadata": {
        "colab": {
          "base_uri": "https://localhost:8080/"
        },
        "id": "S815KnLGPTMe",
        "outputId": "58699400-f92e-4c55-e876-01283e3f5e90"
      },
      "execution_count": 10,
      "outputs": [
        {
          "output_type": "stream",
          "name": "stdout",
          "text": [
            "6429\n"
          ]
        }
      ]
    },
    {
      "cell_type": "markdown",
      "source": [
        "備考\n",
        "HelloCyclingのデータでstation_informationのすべてのデータを出力したら、\n",
        "「IllegalCharacterError」のエラーが出た。\n",
        "その回避のために「df.to_excel(\"test.xlsx\", engine='xlsxwriter')」のようにengineでxlsxwriterを指定するとでなくなる。\n",
        "なお、xlsxwriterはデフォルトではGoogle Colaboratoryに入ってないので、pipでインストールが必要。\n",
        "pip install xlsxwriter\n"
      ],
      "metadata": {
        "id": "Q5liA2w9SSzQ"
      }
    }
  ]
}