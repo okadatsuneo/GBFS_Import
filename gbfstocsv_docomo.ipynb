{
  "nbformat": 4,
  "nbformat_minor": 0,
  "metadata": {
    "colab": {
      "provenance": [],
      "authorship_tag": "ABX9TyNBLgAM44g2yeybJiAAKQ+l",
      "include_colab_link": true
    },
    "kernelspec": {
      "name": "python3",
      "display_name": "Python 3"
    },
    "language_info": {
      "name": "python"
    }
  },
  "cells": [
    {
      "cell_type": "markdown",
      "metadata": {
        "id": "view-in-github",
        "colab_type": "text"
      },
      "source": [
        "<a href=\"https://colab.research.google.com/github/okadatsuneo/GBFS_Import/blob/main/gbfstocsv_docomo.ipynb\" target=\"_parent\"><img src=\"https://colab.research.google.com/assets/colab-badge.svg\" alt=\"Open In Colab\"/></a>"
      ]
    },
    {
      "cell_type": "markdown",
      "source": [
        "ドコモ・バイクシェアのstation_information.jsonファイルからOSMにインポートするためのcsvファイルを作成する。"
      ],
      "metadata": {
        "id": "hwezQ-5TyiSi"
      }
    },
    {
      "cell_type": "code",
      "execution_count": 1,
      "metadata": {
        "id": "LlHkpmNXOzQ2"
      },
      "outputs": [],
      "source": [
        "#モジュールのインポート\n",
        "import pandas as pd\n",
        "import json\n",
        "from pathlib import Path"
      ]
    },
    {
      "cell_type": "code",
      "source": [
        "#ドライブのマウントはセッションが切れると解除される。ファイルも削除されるので、MyDrive下に置く。\n",
        "from google.colab import drive\n",
        "drive.mount('/content/drive')"
      ],
      "metadata": {
        "colab": {
          "base_uri": "https://localhost:8080/"
        },
        "id": "Arumdo9sPLFC",
        "outputId": "9fcd9c50-135f-4e93-e3d3-429272dfc57b"
      },
      "execution_count": 2,
      "outputs": [
        {
          "output_type": "stream",
          "name": "stdout",
          "text": [
            "Mounted at /content/drive\n"
          ]
        }
      ]
    },
    {
      "cell_type": "code",
      "source": [
        "# Googleドライブにあるstation_information.jsonを開く\n",
        "# ファイルパスの結合はpathlibを使用\n",
        "path = Path('/content/drive/MyDrive/python/')\n",
        "file_name_station_info = 'd_station_information.json'\n",
        "file_path = path / file_name_station_info\n",
        "with file_path.open() as f:\n",
        "    json_dict = json.load(f)\n",
        "\n",
        "#'stations'の値を新たなリストlist_stationとする。\n",
        "list_station = json_dict['data']['stations']\n",
        "\n",
        "#list_stationの内容をDataFrameにする。\n",
        "df = pd.DataFrame(list_station)\n",
        "\n",
        "#'ref:gbfs'の列を\"<system_id>:<station_id>\"の形で作成する。\n",
        "df['ref:gbfs'] = 'docomo-cycle:' + df['station_id']\n",
        "\n",
        "#出力に必要な列だけ選択する:df3\n",
        "df3 = df[['lat','lon', 'name', 'ref:gbfs', 'capacity']].copy()\n",
        "\n",
        "#df3にOSM用の固定値を追加\n",
        "df3['amenity'] = 'bicycle_rental'\n",
        "df3['brand'] = 'Docomo Bike Share'\n",
        "df3['brand:ja'] = 'ドコモ・バイクシェア'\n",
        "df3['brand:wikidata'] = 'Q55533296'\n",
        "df3['website'] = 'https://docomo-cycle.jp/'\n",
        "df3['authentication:app'] = 'yes'\n",
        "df3['fee'] = 'yes'\n",
        "\n",
        "#範囲が日本全国に渡るので9つのエリアに分割してインポートできるようエリア情報を追加する。\n",
        "# 緯度経度の範囲の中で要素数が同じになるように分割し(qcut)、ラベルを列の値として追加する。\n",
        "df3['lat_label'] = pd.qcut(df3['lat'], 3, labels=False)\n",
        "df3['lon_label'] = pd.qcut(df3['lon'], 3, labels=False)\n",
        "\n",
        "#ファイル出力\n",
        "df3.to_csv(path / 'd_stations.csv')\n",
        "print(\"処理が完了しました。\")\n"
      ],
      "metadata": {
        "colab": {
          "base_uri": "https://localhost:8080/"
        },
        "id": "S815KnLGPTMe",
        "outputId": "ccdaea22-262a-46f4-ae9f-fd92f6d20c5c"
      },
      "execution_count": 4,
      "outputs": [
        {
          "output_type": "stream",
          "name": "stdout",
          "text": [
            "処理が完了しました。\n"
          ]
        }
      ]
    }
  ]
}