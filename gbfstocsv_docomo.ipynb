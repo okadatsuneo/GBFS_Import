{
  "nbformat": 4,
  "nbformat_minor": 0,
  "metadata": {
    "colab": {
      "provenance": [],
      "authorship_tag": "ABX9TyM4526iIGB4Iq7owHoqa9Yu",
      "include_colab_link": true
    },
    "kernelspec": {
      "name": "python3",
      "display_name": "Python 3"
    },
    "language_info": {
      "name": "python"
    }
  },
  "cells": [
    {
      "cell_type": "markdown",
      "metadata": {
        "id": "view-in-github",
        "colab_type": "text"
      },
      "source": [
        "<a href=\"https://colab.research.google.com/github/okadatsuneo/GBFS_Import/blob/main/gbfstocsv_docomo.ipynb\" target=\"_parent\"><img src=\"https://colab.research.google.com/assets/colab-badge.svg\" alt=\"Open In Colab\"/></a>"
      ]
    },
    {
      "cell_type": "markdown",
      "source": [
        "ドコモ・バイクシェアのstation_information.jsonファイルからOSMにインポートするためのcsvファイルを作成する。"
      ],
      "metadata": {
        "id": "hwezQ-5TyiSi"
      }
    },
    {
      "cell_type": "code",
      "execution_count": 1,
      "metadata": {
        "id": "LlHkpmNXOzQ2"
      },
      "outputs": [],
      "source": [
        "#モジュールのインポート\n",
        "import pandas as pd\n",
        "import re\n",
        "import json\n",
        "from pathlib import Path"
      ]
    },
    {
      "cell_type": "code",
      "source": [
        "#ドライブのマウントはセッションが切れると解除される。ファイルも削除されるので、MyDrive下に置く。\n",
        "from google.colab import drive\n",
        "drive.mount('/content/drive')"
      ],
      "metadata": {
        "colab": {
          "base_uri": "https://localhost:8080/"
        },
        "id": "Arumdo9sPLFC",
        "outputId": "f88c3c5e-5f37-4b82-8e6b-0a6e53934f38"
      },
      "execution_count": 2,
      "outputs": [
        {
          "output_type": "stream",
          "name": "stdout",
          "text": [
            "Mounted at /content/drive\n"
          ]
        }
      ]
    },
    {
      "cell_type": "code",
      "source": [
        "# Googleドライブにあるstation_information.jsonを開く\n",
        "# ファイルパスの結合はpathlibを使用\n",
        "path = Path('/content/drive/MyDrive/python/')\n",
        "file_name_station_info = 'd_station_information.json'\n",
        "file_path = path / file_name_station_info\n",
        "with open(file_path) as f:\n",
        "    json_dict = json.load(f)\n",
        "\n",
        "#'stations'の値を新たなリストlist_stationとする。\n",
        "list_station = json_dict['data']['stations']\n",
        "\n",
        "#list_stationの内容をDataFrameにする。\n",
        "df = pd.DataFrame(list_station)\n",
        "\n",
        "#'name'の値を'gbfs:name'にコピーする。\n",
        "df['gbfs:name'] = df['name']\n",
        "\n",
        "#nameの値から下記のように'ref'、'description'の要素に分離する。\n",
        "# 新しい列の初期化\n",
        "df['ref'] = ''\n",
        "df['description'] = ''\n",
        "\n",
        "# 'name'の各行の処理\n",
        "for index, row in df.iterrows():\n",
        "    # ピリオドがある場合\n",
        "    if '.' in row['name']:\n",
        "        parts = row['name'].split('.')\n",
        "        df.at[index, 'ref'] = parts[0]\n",
        "        df.at[index, 'name'] = '.'.join(parts[1:])\n",
        "\n",
        "    # '-'がある場合\n",
        "    elif '-' in row['name']:\n",
        "        parts = row['name'].split('-')\n",
        "        df.at[index, 'ref'] = parts[0]\n",
        "        df.at[index, 'name'] = '-'.join(parts[1:])\n",
        "\n",
        "    # '_'がある場合\n",
        "    elif '_' in row['name']:\n",
        "        parts = row['name'].split('_')\n",
        "        df.at[index, 'ref'] = parts[0]\n",
        "        df.at[index, 'name'] = '_'.join(parts[1:])\n",
        "\n",
        "# 'ref'の各行の処理\n",
        "# '【】'で囲まれた文字列があるデータが存在する場合があり、それに対してはカッコ内の文字を'description'列の値とする。\n",
        "for index, row in df.iterrows():\n",
        "    # '】'がある場合(文字コードで指定)\n",
        "    if '\\u3011' in row['ref']:\n",
        "        df.at[index, 'description'], df.at[index, 'ref'] = map(str.strip, row['ref'].split('\\u3011', 1))\n",
        "        df.at[index, 'description'] = df.at[index, 'description'][1:]\n",
        "\n",
        "# 列の値が数値のみの場合に数値に変換する関数\n",
        "# 'ref'などで'001'のような文字を'1'に変換することを想定。数字以外の文字がある場合は変換しない\n",
        "def convert_function(value):\n",
        "    return pd.to_numeric(value, errors='ignore')\n",
        "\n",
        "# 'station_id'列の各要素に対して数値に変換し、'gbfs:station_id'とする。\n",
        "df['gbfs:station_id'] = df['station_id'].apply(convert_function)\n",
        "#'ref'も数字に変換できる場合は変換する。\n",
        "df['ref'] = df['ref'].apply(convert_function)\n",
        "\n",
        "#出力に必要な列だけ選択する:df3\n",
        "df3 = df[['lat','lon', 'ref', 'name', 'description','gbfs:name', 'gbfs:station_id', 'capacity']].copy()\n",
        "\n",
        "#df3にOSM用の固定値を追加\n",
        "df3['amenity'] = 'bicycle_rental'\n",
        "df3['brand'] = 'Docomo Bike Share'\n",
        "df3['brand:ja'] = 'ドコモ・バイクシェア'\n",
        "df3['brand:wikidata'] = 'Q55533296'\n",
        "df3['brand:website'] = 'https://docomo-cycle.jp/'\n",
        "df3['gbfs:system_id'] = 'docomo-cycle'\n",
        "df3['authentication:app'] = 'yes'\n",
        "df3['fee'] = 'yes'\n",
        "\n",
        "#範囲が日本全国に渡るので9つのエリアに分割してインポートできるようエリア情報を追加する。\n",
        "# 緯度経度の範囲の中で要素数が同じになるように分割し(qcut)、ラベルを列の値として追加する。\n",
        "df3['lat_label'] = pd.qcut(df3['lat'], 3, labels=False)\n",
        "df3['lon_label'] = pd.qcut(df3['lon'], 3, labels=False)\n",
        "\n",
        "#ファイル出力\n",
        "df3.to_csv(path / 'd_stations.csv')\n",
        "df3.to_excel(path / 'd_stations.xlsx')\n",
        "print(\"処理が完了しました。\")\n"
      ],
      "metadata": {
        "colab": {
          "base_uri": "https://localhost:8080/"
        },
        "id": "S815KnLGPTMe",
        "outputId": "fb14deff-618d-41f0-ed73-4d399a42cc76"
      },
      "execution_count": 7,
      "outputs": [
        {
          "output_type": "stream",
          "name": "stdout",
          "text": [
            "処理が完了しました。\n"
          ]
        }
      ]
    }
  ]
}