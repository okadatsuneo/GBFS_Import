{
  "nbformat": 4,
  "nbformat_minor": 0,
  "metadata": {
    "colab": {
      "provenance": [],
      "authorship_tag": "ABX9TyMoY+jvE1RXBtEwfX/Ykc8c",
      "include_colab_link": true
    },
    "kernelspec": {
      "name": "python3",
      "display_name": "Python 3"
    },
    "language_info": {
      "name": "python"
    }
  },
  "cells": [
    {
      "cell_type": "markdown",
      "metadata": {
        "id": "view-in-github",
        "colab_type": "text"
      },
      "source": [
        "<a href=\"https://colab.research.google.com/github/okadatsuneo/GBFS_Import/blob/main/convert_refgbfs.ipynb\" target=\"_parent\"><img src=\"https://colab.research.google.com/assets/colab-badge.svg\" alt=\"Open In Colab\"/></a>"
      ]
    },
    {
      "cell_type": "markdown",
      "source": [
        "ref:gbfsをgbfs:system_idとgbfs:station_idに書き換えるスクリプト"
      ],
      "metadata": {
        "id": "hwezQ-5TyiSi"
      }
    },
    {
      "cell_type": "code",
      "execution_count": null,
      "metadata": {
        "id": "LlHkpmNXOzQ2"
      },
      "outputs": [],
      "source": [
        "#モジュールのインポート\n",
        "import xml.etree.ElementTree as ET\n",
        "from pathlib import Path"
      ]
    },
    {
      "cell_type": "code",
      "source": [
        "#ドライブのマウントはセッションが切れると解除される。ファイルも削除されるので、MyDrive下に置く。\n",
        "from google.colab import drive\n",
        "drive.mount('/content/drive')"
      ],
      "metadata": {
        "colab": {
          "base_uri": "https://localhost:8080/"
        },
        "id": "Arumdo9sPLFC",
        "outputId": "599e5605-eafc-4239-d3ed-11b06666d86c"
      },
      "execution_count": null,
      "outputs": [
        {
          "output_type": "stream",
          "name": "stdout",
          "text": [
            "Mounted at /content/drive\n"
          ]
        }
      ]
    },
    {
      "cell_type": "code",
      "source": [
        "# Googleドライブにあるファイルを開く\n",
        "# ファイルパスの結合はpathlibを使用\n",
        "path = Path('/content/drive/MyDrive/python/')\n",
        "input_file = path / 'input.osm'\n",
        "output_file = path / 'output.osm'\n",
        "\n",
        "#ref:gbfsをgbfs:system_idとgbfs:station_idに書き換える関数\n",
        "def transform_xml(input_file, output_file):\n",
        "    tree = ET.parse(input_file)\n",
        "    root = tree.getroot()\n",
        "\n",
        "    # 'node' タグの処理\n",
        "    for elem in root.iter('node'):\n",
        "        ref_gbfs_tag = elem.find(\".//tag[@k='ref:gbfs']\")\n",
        "        if ref_gbfs_tag is not None:\n",
        "            ref_gbfs_value = ref_gbfs_tag.get('v')\n",
        "            system_id, station_id = ref_gbfs_value.split(':')\n",
        "            elem.remove(ref_gbfs_tag)\n",
        "            system_id_tag = ET.Element('tag', {'k': 'gbfs:system_id', 'v': system_id})\n",
        "            station_id_tag = ET.Element('tag', {'k': 'gbfs:station_id', 'v': station_id})\n",
        "            elem.append(system_id_tag)\n",
        "            elem.append(station_id_tag)\n",
        "\n",
        "        # 'action' 属性の追加\n",
        "        elem.set('action', 'modify')\n",
        "\n",
        "\n",
        "    # 'way' タグの処理\n",
        "    for elem in root.iter('way'):\n",
        "        ref_gbfs_tag = elem.find(\".//tag[@k='ref:gbfs']\")\n",
        "        if ref_gbfs_tag is not None:\n",
        "            ref_gbfs_value = ref_gbfs_tag.get('v')\n",
        "            system_id, station_id = ref_gbfs_value.split(':')\n",
        "            elem.remove(ref_gbfs_tag)\n",
        "            system_id_tag = ET.Element('tag', {'k': 'gbfs:system_id', 'v': system_id})\n",
        "            station_id_tag = ET.Element('tag', {'k': 'gbfs:station_id', 'v': station_id})\n",
        "            elem.append(system_id_tag)\n",
        "            elem.append(station_id_tag)\n",
        "\n",
        "        # 'action' 属性の追加\n",
        "        elem.set('action', 'modify')\n",
        "\n",
        "    # 出力時に encoding='utf-8' を指定してファイルに書き込む\n",
        "    tree.write(output_file, encoding='utf-8')\n",
        "\n",
        "\n",
        "transform_xml(input_file, output_file)\n",
        "\n",
        "\n",
        "print(\"処理が完了しました。\")\n"
      ],
      "metadata": {
        "colab": {
          "base_uri": "https://localhost:8080/"
        },
        "id": "S815KnLGPTMe",
        "outputId": "5ee94a60-fcb0-47b5-a1d8-7917cc56b8f7"
      },
      "execution_count": null,
      "outputs": [
        {
          "output_type": "stream",
          "name": "stdout",
          "text": [
            "処理が完了しました。\n"
          ]
        }
      ]
    }
  ]
}